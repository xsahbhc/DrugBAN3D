{
  "cells": [
    {
      "cell_type": "markdown",
      "metadata": {
        "id": "aA5ncjhFVt8Q"
      },
      "source": [
        "# DrugBAN Running Demo | [Paper](https://doi.org/10.1038/s42256-022-00605-1) | [Repo](https://github.com/peizhenbai/DrugBAN)\n",
        "\n",
        "| [Open In Colab](https://colab.research.google.com/github/pz-white/DrugBAN/blob/main/drugban_demo.ipynb) (click `Runtime` → `Run all (Ctrl+F9)` |\n",
        "\n",
        "This is a code demo of DrugBAN framework for drug-target interaction prediction. It takes about 3 minutes to run the whole pipeline."
      ]
    },
    {
      "cell_type": "markdown",
      "metadata": {
        "id": "kZPwj94JXy8K"
      },
      "source": [
        "## Setup\n",
        "\n",
        "The first few blocks of code are necessary to set up the notebook execution environment. This checks if the notebook is running on Google Colab and installs required packages."
      ]
    },
    {
      "cell_type": "code",
      "execution_count": null,
      "metadata": {
        "id": "i-mTHW00YW9S"
      },
      "outputs": [],
      "source": [
        "if 'google.colab' in str(get_ipython()):\n",
        "    print('Running on CoLab')\n",
        "    !pip uninstall --yes yellowbrick\n",
        "    !pip install -U -q psutil\n",
        "    !pip install dgl dgllife\n",
        "    !pip install rdkit-pypi\n",
        "    !pip install PrettyTable yacs\n",
        "    !git clone https://github.com/pz-white/DrugBAN.git\n",
        "    %cd DrugBAN\n",
        "else:\n",
        "    print('Not running on CoLab')"
      ]
    },
    {
      "cell_type": "markdown",
      "metadata": {
        "id": "CYbEP_eRl2BG"
      },
      "source": [
        "## Import required modules."
      ]
    },
    {
      "cell_type": "code",
      "execution_count": null,
      "metadata": {
        "id": "fIJ2vLKhY-Ul"
      },
      "outputs": [],
      "source": [
        "from models import DrugBAN\n",
        "from time import time\n",
        "from utils import set_seed, graph_collate_func, mkdir\n",
        "from configs import get_cfg_defaults\n",
        "from dataloader import DTIDataset, MultiDataLoader\n",
        "from torch.utils.data import DataLoader\n",
        "from trainer import Trainer\n",
        "from domain_adaptator import Discriminator\n",
        "import torch\n",
        "import argparse\n",
        "import warnings, os\n",
        "import pandas as pd"
      ]
    },
    {
      "cell_type": "markdown",
      "metadata": {
        "id": "5Uldo3zTqO6j"
      },
      "source": [
        "## Configuration\n",
        "\n",
        "The customized configuration used in this demo is stored in `configs/DrugBAN_Demo.yaml`, this file overwrites defaults in `config.py` where a value is specified.\n",
        "\n",
        "For saving time to run a whole pipeline in this demo, we sample small subsets from the original BindingDB dataset, which is located at `datasets/bindingdb_sample`"
      ]
    },
    {
      "cell_type": "code",
      "execution_count": null,
      "metadata": {
        "id": "hy5zyx55qUtY"
      },
      "outputs": [],
      "source": [
        "device = torch.device('cuda' if torch.cuda.is_available() else 'cpu')\n",
        "cfg_path = \"./configs/DrugBAN_Demo.yaml\"\n",
        "data = \"bindingdb_sample\"\n",
        "comet_support = False\n",
        "\n",
        "cfg = get_cfg_defaults()\n",
        "cfg.merge_from_file(cfg_path)\n",
        "cfg.freeze()\n",
        "\n",
        "torch.cuda.empty_cache()\n",
        "warnings.filterwarnings(\"ignore\")\n",
        "set_seed(cfg.SOLVER.SEED)\n",
        "mkdir(cfg.RESULT.OUTPUT_DIR)\n",
        "experiment = None\n",
        "print(f\"Config yaml: {cfg_path}\")\n",
        "print(f\"Running on: {device}\")\n",
        "print(f\"Hyperparameters:\")\n",
        "dict(cfg)"
      ]
    },
    {
      "cell_type": "markdown",
      "metadata": {
        "id": "h4O4qY-NrqP7"
      },
      "source": [
        "## Data Loader\n",
        "\n",
        "The train/valid/test datasets are specified using the `DTIDataset()` function and loaded using the `DataLoader()` function."
      ]
    },
    {
      "cell_type": "code",
      "execution_count": null,
      "metadata": {
        "id": "N3jilfWtr2VR"
      },
      "outputs": [],
      "source": [
        "dataFolder = f'./datasets/{data}'\n",
        "\n",
        "train_path = os.path.join(dataFolder, 'train.csv')\n",
        "val_path = os.path.join(dataFolder, \"val.csv\")\n",
        "test_path = os.path.join(dataFolder, \"test.csv\")\n",
        "df_train = pd.read_csv(train_path)\n",
        "df_val = pd.read_csv(val_path)\n",
        "df_test = pd.read_csv(test_path)\n",
        "\n",
        "train_dataset = DTIDataset(df_train.index.values, df_train)\n",
        "val_dataset = DTIDataset(df_val.index.values, df_val)\n",
        "test_dataset = DTIDataset(df_test.index.values, df_test)\n",
        "\n",
        "params = {'batch_size': cfg.SOLVER.BATCH_SIZE, 'shuffle': True, 'num_workers': cfg.SOLVER.NUM_WORKERS, 'drop_last': True, 'collate_fn': graph_collate_func}\n",
        "training_generator = DataLoader(train_dataset, **params)\n",
        "params['shuffle'] = False\n",
        "params['drop_last'] = False\n",
        "val_generator = DataLoader(val_dataset, **params)\n",
        "test_generator = DataLoader(test_dataset, **params)"
      ]
    },
    {
      "cell_type": "markdown",
      "metadata": {
        "id": "-pja2a7Ss1-I"
      },
      "source": [
        "## Setup Model and Optimizer\n",
        "\n",
        "Here, we use the previously defined configuration to set up the model and optimizer we will subsequently train.\n"
      ]
    },
    {
      "cell_type": "code",
      "execution_count": null,
      "metadata": {
        "id": "XXj0Wzw5s-iu"
      },
      "outputs": [],
      "source": [
        "model = DrugBAN(**cfg).to(device)\n",
        "opt = torch.optim.Adam(model.parameters(), lr=cfg.SOLVER.LR)\n",
        "if torch.cuda.is_available():\n",
        "  torch.backends.cudnn.benchmark = True"
      ]
    },
    {
      "cell_type": "markdown",
      "metadata": {
        "id": "g9SqUJ5ptTUe"
      },
      "source": [
        "## Model Training and Test Optimized Model\n",
        "\n",
        "Optimize model parameters using the trainer and check test performance."
      ]
    },
    {
      "cell_type": "code",
      "execution_count": null,
      "metadata": {
        "id": "XH9k2L94tXac"
      },
      "outputs": [],
      "source": [
        "trainer = Trainer(model, opt, device, training_generator, val_generator, test_generator, opt_da=None, discriminator=None, experiment=experiment, **cfg)\n",
        "result = trainer.train()\n",
        "with open(os.path.join(cfg.RESULT.OUTPUT_DIR, \"model_architecture.txt\"), \"w\") as wf:\n",
        "    wf.write(str(model))\n",
        "print(f\"Directory for saving result: {cfg.RESULT.OUTPUT_DIR}\")"
      ]
    },
    {
      "cell_type": "markdown",
      "source": [
        "## Expected Output\n",
        "\n",
        "Awesome! You complete all demo steps and should get output like the following. Please note that these numbers might be different due to the update of environment setup on colab.\n",
        "\n",
        "```\n",
        "Training at Epoch 1 with training loss 0.7483742804754347\n",
        "Validation at Epoch 1 with validation loss 0.6943950802087784  AUROC 0.6544117647058824 AUPRC 0.44206349206349205\n",
        "Test at Best Model of Epoch 1 with test loss 0.6565468311309814  AUROC 0.4245614035087719 AUPRC 0.4018830588082055 Sensitivity 0.0 Specificity 1.0 Accuracy 0.3877551020408163 Thred_optim 0.42230069637298584\n",
        "Directory for saving result: ./result/demo\n",
        "```\n",
        "\n",
        "Finally, the output result is saved in the colab temporary directory: `DrugBAN/result/demo`. You can access it by clicking `Files` tab on the left side of colab interface."
      ],
      "metadata": {
        "id": "haKH889bNPvE"
      }
    }
  ],
  "metadata": {
    "colab": {
      "name": "drugban_demo.ipynb",
      "provenance": [],
      "authorship_tag": "ABX9TyOWzo58scbEjeAOtw2zzTUE"
    },
    "gpuClass": "standard",
    "kernelspec": {
      "display_name": "Python 3",
      "name": "python3"
    },
    "language_info": {
      "name": "python"
    }
  },
  "nbformat": 4,
  "nbformat_minor": 0
}